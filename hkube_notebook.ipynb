{
 "cells": [
  {
   "cell_type": "code",
   "execution_count": null,
   "metadata": {},
   "outputs": [],
   "source": [
    "from hkube_notebook.pipeline.exec import PipelineExecutor\n",
    "from hkube_notebook.pipeline.create import PipelineBuilder\n",
    "from hkube_notebook.pipeline.tracker import TrackerType\n",
    "from hkube_notebook.algorithm.manager import AlgorithmManager\n",
    "import time\n",
    "# put appropriate api-server URL\n",
    "api_server = 'http://localhost:3000/api/v1'"
   ]
  },
  {
   "cell_type": "markdown",
   "metadata": {},
   "source": [
    "# Build Pipeline"
   ]
  },
  {
   "cell_type": "code",
   "execution_count": null,
   "metadata": {},
   "outputs": [],
   "source": [
    "zazaBuilder = PipelineBuilder(name='zaza', api_server_base_url=api_server)\n",
    "zazaBuilder.add_node(node_name='green', alg_name='green-alg', input=[\"@flowInput.tata\"])\n",
    "zazaBuilder.add_node(node_name='yellow', alg_name='yellow-alg', input=[\"@green\"])\n",
    "zazaBuilder.add_node(node_name='black', alg_name='black-alg', input=[\"@yellow\"])\n",
    "# add unknown algorithm => error\n",
    "zazaBuilder.add_node(node_name='gold', alg_name='gold-alg', input=[\"@black\"])\n",
    "zazaBuilder.get_raw()"
   ]
  },
  {
   "cell_type": "markdown",
   "metadata": {},
   "source": [
    "# Execute raw pipeline from builder (webhook tracker)"
   ]
  },
  {
   "cell_type": "code",
   "execution_count": null,
   "metadata": {},
   "outputs": [],
   "source": [
    "zazaRawExec = PipelineExecutor(raw=zazaBuilder.get_raw(), api_server_base_url=api_server)\n",
    "results = zazaRawExec.exec(input={ 'tata': {} })"
   ]
  },
  {
   "cell_type": "markdown",
   "metadata": {},
   "source": [
    "# Store pipeline, async execute 3 times (webhook listener)"
   ]
  },
  {
   "cell_type": "code",
   "execution_count": null,
   "metadata": {},
   "outputs": [],
   "source": [
    "zazaBuilder.store()"
   ]
  },
  {
   "cell_type": "code",
   "execution_count": null,
   "metadata": {},
   "outputs": [],
   "source": [
    "zazaStoredListenerExec = PipelineExecutor(name='zaza', api_server_base_url=api_server)\n",
    "jobId1 = zazaStoredListenerExec.exec_async(input={})\n",
    "jobId2 = zazaStoredListenerExec.exec_async(input={})\n",
    "jobId2 = zazaStoredListenerExec.exec_async(input={})"
   ]
  },
  {
   "cell_type": "code",
   "execution_count": null,
   "metadata": {},
   "outputs": [],
   "source": [
    "# run it when above jobs are still running to see their status\n",
    "status_list = zazaStoredListenerExec.get_all_status()"
   ]
  },
  {
   "cell_type": "markdown",
   "metadata": {},
   "source": [
    "# Async excute stored pipeline 3 times (status polling), stop one"
   ]
  },
  {
   "cell_type": "code",
   "execution_count": null,
   "metadata": {},
   "outputs": [],
   "source": [
    "zazaStoredPollingExec = PipelineExecutor(name='zaza', api_server_base_url=api_server, tracker=TrackerType.POLLING)\n",
    "# async execution\n",
    "jobId1 = zazaStoredPollingExec.exec_async(input={})\n",
    "jobId2 = zazaStoredPollingExec.exec_async(input={})\n",
    "jobId3 = zazaStoredPollingExec.exec_async(input={})\n",
    "time.sleep(4)\n",
    "zazaStoredPollingExec.stop(jobId=jobId2)"
   ]
  },
  {
   "cell_type": "code",
   "execution_count": null,
   "metadata": {},
   "outputs": [],
   "source": [
    "# get result of the first\n",
    "results1 = zazaStoredPollingExec.get_results(jobId=jobId3, max_display=10)"
   ]
  },
  {
   "cell_type": "markdown",
   "metadata": {},
   "source": [
    "# Execute pipeline with (too small) timeout"
   ]
  },
  {
   "cell_type": "code",
   "execution_count": null,
   "metadata": {},
   "outputs": [],
   "source": [
    "results = zazaStoredPollingExec.exec(input={ 'tata': {} }, timeout_sec=2)"
   ]
  },
  {
   "cell_type": "markdown",
   "metadata": {},
   "source": [
    "# Delete stored pipeline"
   ]
  },
  {
   "cell_type": "code",
   "execution_count": null,
   "metadata": {},
   "outputs": [],
   "source": [
    "zazaBuilder.delete()"
   ]
  },
  {
   "cell_type": "markdown",
   "metadata": {},
   "source": [
    "# Build & exec eval node pipeline, control dispaled size"
   ]
  },
  {
   "cell_type": "code",
   "execution_count": null,
   "metadata": {},
   "outputs": [],
   "source": [
    "splitBuilder = PipelineBuilder(name='multi_result', api_server_base_url=api_server)\n",
    "eval_split = {\n",
    "    \"code\": [\n",
    "    \"function split(input) {\",\n",
    "    \"return input[0].split(' ');\",\n",
    "    \"}\"]\n",
    "}\n",
    "splitBuilder.add_node(node_name='split', alg_name='eval-alg', input=[\"#@flowInput.text\"],\n",
    "                extra_data=eval_split)\n",
    "splitBuilder.get_raw()"
   ]
  },
  {
   "cell_type": "code",
   "execution_count": null,
   "metadata": {},
   "outputs": [],
   "source": [
    "splitExec = PipelineExecutor(raw=splitBuilder.get_raw(), api_server_base_url=api_server)\n",
    "input = {\n",
    "        \"text\": [\"In mathematics and computer science, a directed acyclic graph \",\n",
    "    \"(DAG (About this sound listen)), is a finite directed graph with\",\n",
    "    \" no directed cycles. That is, it consists of finitely many vertices and\",\n",
    "    \"edges, with each edge directed from one vertex to another, \",\n",
    "    \"such that there is no way to start at any vertex v and follow\",\n",
    "    \"a consistently-directed sequence of edges that eventually \",\n",
    "    \"loops back to v again. Equivalently, a DAG is a directed graph\",\n",
    "    \"that has a topological ordering, a sequence of the vertices \",\n",
    "    \"such that every edge is directed from earlier to later in the sequence.\",\n",
    "    \"The corresponding concept for undirected graphs is a forest, an undirected graph without \",\n",
    "    \"cycles. Choosing an orientation for a forest produces a special kind of directed acyclic graph\",\n",
    "    \"called a polytree. However there are many other kinds of directed acyclic graph that are not\"]\n",
    "}\n",
    "results = splitExec.exec(input=input, max_displayed_results=3)"
   ]
  },
  {
   "cell_type": "code",
   "execution_count": null,
   "metadata": {},
   "outputs": [],
   "source": [
    "# execute without results display\n",
    "results = splitExec.exec(input=input, max_displayed_results=0)"
   ]
  },
  {
   "cell_type": "markdown",
   "metadata": {},
   "source": [
    "# Iterate over results"
   ]
  },
  {
   "cell_type": "code",
   "execution_count": null,
   "metadata": {},
   "outputs": [],
   "source": [
    "i = 0\n",
    "print(\"TOTAL: {} results\".format(len(results)))\n",
    "for item in results:\n",
    "    print('ITEM {}: {}'.format(i, results[i]))\n",
    "    i += 1"
   ]
  },
  {
   "cell_type": "markdown",
   "metadata": {},
   "source": [
    "# Get pipelines"
   ]
  },
  {
   "cell_type": "code",
   "execution_count": null,
   "metadata": {},
   "outputs": [],
   "source": [
    "# Get all stored pipelines\n",
    "stored = PipelineExecutor.get_all_stored(api_server)\n",
    "# ...now you may iterate on 'stored'...\n",
    "\n",
    "# Get all running pipeline jobs\n",
    "running = PipelineExecutor.get_running_jobs(api_server)"
   ]
  },
  {
   "cell_type": "markdown",
   "metadata": {},
   "source": [
    "# Get Algorithms"
   ]
  },
  {
   "cell_type": "code",
   "execution_count": null,
   "metadata": {},
   "outputs": [],
   "source": [
    "algs = AlgorithmManager.get_all(api_server)"
   ]
  }
 ],
 "metadata": {
  "kernelspec": {
   "display_name": "Python 3",
   "language": "python",
   "name": "python3"
  },
  "language_info": {
   "codemirror_mode": {
    "name": "ipython",
    "version": 3
   },
   "file_extension": ".py",
   "mimetype": "text/x-python",
   "name": "python",
   "nbconvert_exporter": "python",
   "pygments_lexer": "ipython3",
   "version": "3.6.8"
  }
 },
 "nbformat": 4,
 "nbformat_minor": 2
}
