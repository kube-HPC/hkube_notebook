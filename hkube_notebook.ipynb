{
 "cells": [
  {
   "cell_type": "code",
   "execution_count": 1,
   "metadata": {},
   "outputs": [
    {
     "name": "stdout",
     "output_type": "stream",
     "text": [
      "0.2\n"
     ]
    }
   ],
   "source": [
    "import hkube_notebook\n",
    "from hkube_notebook import AlgorithmBuilder, PipelineBuilder, PipelineExecutor, TrackerType\n",
    "print(hkube_notebook.__version__)\n",
    "import time\n",
    "# put appropriate api-server URL\n",
    "api_server = 'http://localhost:3000/api/v1'\n",
    "#api_server = 'https://10.32.10.11/hkube/api-server/api/v1'"
   ]
  },
  {
   "cell_type": "markdown",
   "metadata": {},
   "source": [
    "# Build Pipeline"
   ]
  },
  {
   "cell_type": "code",
   "execution_count": 4,
   "metadata": {},
   "outputs": [
    {
     "data": {
      "text/plain": [
       "{'name': 'zaza',\n",
       " 'nodes': [{'nodeName': 'green',\n",
       "   'algorithmName': 'green-alg',\n",
       "   'input': ['@flowInput.tata']},\n",
       "  {'nodeName': 'yellow', 'algorithmName': 'yellow-alg', 'input': ['@green']},\n",
       "  {'nodeName': 'black', 'algorithmName': 'black-alg', 'input': ['@yellow']}],\n",
       " 'options': {'progressVerbosityLevel': 'debug'},\n",
       " 'flowInput': {}}"
      ]
     },
     "execution_count": 4,
     "metadata": {},
     "output_type": "execute_result"
    }
   ],
   "source": [
    "zazaBuilder = PipelineBuilder(name='zaza', api_server_base_url=api_server)\n",
    "zazaBuilder.add_node(node_name='green', alg_name='green-alg', input=[\"@flowInput.tata\"])\n",
    "zazaBuilder.add_node(node_name='yellow', alg_name='yellow-alg', input=[\"@green\"])\n",
    "zazaBuilder.add_node(node_name='black', alg_name='black-alg', input=[\"@yellow\"])\n",
    "# add unknown algorithm => error\n",
    "#zazaBuilder.add_node(node_name='gold', alg_name='gold-alg', input=[\"@black\"])\n",
    "zazaBuilder.get_raw()"
   ]
  },
  {
   "cell_type": "markdown",
   "metadata": {},
   "source": [
    "# Execute raw pipeline from builder (webhook tracker)"
   ]
  },
  {
   "cell_type": "code",
   "execution_count": 5,
   "metadata": {},
   "outputs": [
    {
     "data": {
      "application/vnd.jupyter.widget-view+json": {
       "model_id": "3d2ee104df364f648d11c2d88f164b9e",
       "version_major": 2,
       "version_minor": 0
      },
      "text/plain": [
       "HBox(children=(IntProgress(value=0), HTML(value='')))"
      ]
     },
     "metadata": {},
     "output_type": "display_data"
    },
    {
     "name": "stdout",
     "output_type": "stream",
     "text": [
      ">>>>> running flask ubuntu-amiryi-ww:57140\n",
      "OK - pipeline is running, jobId: raw-zaza-b36ae9e467:bc0df3f4-b3fb-4bfe-b025-872b24852f10.raw-zaza-b36ae9e467\n",
      "shutdown flask server...\n",
      "flask server ended\n",
      "ListenerTracker thread finished. jobId: raw-zaza-b36ae9e467:bc0df3f4-b3fb-4bfe-b025-872b24852f10.raw-zaza-b36ae9e467\n",
      "getting results...\n",
      "pipeline \"raw-zaza-b36ae9e467\" status: completed\n",
      "timeTook: 206.924 seconds\n",
      "RESULT (1 of 1 items):\n",
      "RESULT ITEM 1:\n",
      "{\n",
      "    \"output\": 42\n",
      "}\n",
      "<<<<< finished\n"
     ]
    }
   ],
   "source": [
    "zazaRawExec = PipelineExecutor(raw=zazaBuilder.get_raw(), api_server_base_url=api_server)\n",
    "results = zazaRawExec.exec(input={ 'tata': {} })"
   ]
  },
  {
   "cell_type": "markdown",
   "metadata": {},
   "source": [
    "# Store pipeline, async execute 3 times (webhook listener)"
   ]
  },
  {
   "cell_type": "code",
   "execution_count": 7,
   "metadata": {},
   "outputs": [
    {
     "name": "stdout",
     "output_type": "stream",
     "text": [
      "OK: pipeline \"zaza\" was stored successfully!\n"
     ]
    },
    {
     "data": {
      "text/plain": [
       "True"
      ]
     },
     "execution_count": 7,
     "metadata": {},
     "output_type": "execute_result"
    }
   ],
   "source": [
    "zazaBuilder.store()"
   ]
  },
  {
   "cell_type": "code",
   "execution_count": 8,
   "metadata": {},
   "outputs": [
    {
     "data": {
      "application/vnd.jupyter.widget-view+json": {
       "model_id": "df769015095e4731b7a7c62a64feb318",
       "version_major": 2,
       "version_minor": 0
      },
      "text/plain": [
       "HBox(children=(IntProgress(value=0), HTML(value='')))"
      ]
     },
     "metadata": {},
     "output_type": "display_data"
    },
    {
     "name": "stdout",
     "output_type": "stream",
     "text": [
      ">>>>> running flask ubuntu-amiryi-ww:50408\n",
      "OK - pipeline is running, jobId: zaza:38669c23-aa90-4204-b687-0b54f641e720.zaza\n"
     ]
    },
    {
     "data": {
      "application/vnd.jupyter.widget-view+json": {
       "model_id": "0627a49470e14d15ad1f0c76fb4d3a7a",
       "version_major": 2,
       "version_minor": 0
      },
      "text/plain": [
       "HBox(children=(IntProgress(value=0), HTML(value='')))"
      ]
     },
     "metadata": {},
     "output_type": "display_data"
    },
    {
     "name": "stdout",
     "output_type": "stream",
     "text": [
      ">>>>> running flask ubuntu-amiryi-ww:50409\n",
      "OK - pipeline is running, jobId: zaza:9baa6e03-badc-4fb3-a7e3-cfb930ddfcad.zaza\n"
     ]
    },
    {
     "data": {
      "application/vnd.jupyter.widget-view+json": {
       "model_id": "83543d6f813640b5a93e6f2db26921ba",
       "version_major": 2,
       "version_minor": 0
      },
      "text/plain": [
       "HBox(children=(IntProgress(value=0), HTML(value='')))"
      ]
     },
     "metadata": {},
     "output_type": "display_data"
    },
    {
     "name": "stdout",
     "output_type": "stream",
     "text": [
      ">>>>> running flask ubuntu-amiryi-ww:50410\n",
      "OK - pipeline is running, jobId: zaza:44e02551-bca7-446b-ba7e-da940c8ecc85.zaza\n",
      "shutdown flask server...\n",
      "flask server ended\n",
      "ListenerTracker thread finished. jobId: zaza:38669c23-aa90-4204-b687-0b54f641e720.zaza\n",
      "shutdown flask server...\n",
      "flask server ended\n",
      "ListenerTracker thread finished. jobId: zaza:9baa6e03-badc-4fb3-a7e3-cfb930ddfcad.zaza\n",
      "shutdown flask server...\n",
      "flask server ended\n",
      "ListenerTracker thread finished. jobId: zaza:44e02551-bca7-446b-ba7e-da940c8ecc85.zaza\n"
     ]
    }
   ],
   "source": [
    "zazaStoredListenerExec = PipelineExecutor(name='zaza', api_server_base_url=api_server)\n",
    "jobId1 = zazaStoredListenerExec.exec_async(input={})\n",
    "jobId2 = zazaStoredListenerExec.exec_async(input={})\n",
    "jobId2 = zazaStoredListenerExec.exec_async(input={})"
   ]
  },
  {
   "cell_type": "code",
   "execution_count": 9,
   "metadata": {},
   "outputs": [
    {
     "name": "stdout",
     "output_type": "stream",
     "text": [
      "executor has no active jobs\n"
     ]
    }
   ],
   "source": [
    "# run it when above jobs are still running to see their status\n",
    "status_list = zazaStoredListenerExec.get_all_status()"
   ]
  },
  {
   "cell_type": "markdown",
   "metadata": {},
   "source": [
    "# Async excute stored pipeline 3 times (status polling), stop one"
   ]
  },
  {
   "cell_type": "code",
   "execution_count": null,
   "metadata": {},
   "outputs": [],
   "source": [
    "zazaStoredPollingExec = PipelineExecutor(name='zaza', api_server_base_url=api_server, tracker=TrackerType.POLLING)\n",
    "# async execution\n",
    "jobId1 = zazaStoredPollingExec.exec_async(input={})\n",
    "jobId2 = zazaStoredPollingExec.exec_async(input={})\n",
    "jobId3 = zazaStoredPollingExec.exec_async(input={})\n",
    "time.sleep(4)\n",
    "zazaStoredPollingExec.stop(jobId=jobId2)"
   ]
  },
  {
   "cell_type": "code",
   "execution_count": null,
   "metadata": {},
   "outputs": [],
   "source": [
    "# get result of the first\n",
    "results1 = zazaStoredPollingExec.get_results(jobId=jobId3, max_display=10)"
   ]
  },
  {
   "cell_type": "markdown",
   "metadata": {},
   "source": [
    "# Execute pipeline with (too small) timeout"
   ]
  },
  {
   "cell_type": "code",
   "execution_count": null,
   "metadata": {},
   "outputs": [],
   "source": [
    "results = zazaStoredPollingExec.exec(input={ 'tata': {} }, timeout_sec=2)"
   ]
  },
  {
   "cell_type": "markdown",
   "metadata": {},
   "source": [
    "# Delete stored pipeline"
   ]
  },
  {
   "cell_type": "code",
   "execution_count": null,
   "metadata": {},
   "outputs": [],
   "source": [
    "zazaBuilder.delete()"
   ]
  },
  {
   "cell_type": "markdown",
   "metadata": {},
   "source": [
    "# Build & exec eval node pipeline, control dispaled size"
   ]
  },
  {
   "cell_type": "code",
   "execution_count": null,
   "metadata": {},
   "outputs": [],
   "source": [
    "splitBuilder = PipelineBuilder(name='multi_result', api_server_base_url=api_server)\n",
    "eval_split = {\n",
    "    \"code\": [\n",
    "    \"function split(input) {\",\n",
    "    \"return input[0].split(' ');\",\n",
    "    \"}\"]\n",
    "}\n",
    "splitBuilder.add_node(node_name='split', alg_name='eval-alg', input=[\"#@flowInput.text\"],\n",
    "                extra_data=eval_split)\n",
    "splitBuilder.get_raw()"
   ]
  },
  {
   "cell_type": "code",
   "execution_count": null,
   "metadata": {},
   "outputs": [],
   "source": [
    "splitExec = PipelineExecutor(raw=splitBuilder.get_raw(), api_server_base_url=api_server)\n",
    "input = {\n",
    "        \"text\": [\"In mathematics and computer science, a directed acyclic graph \",\n",
    "    \"(DAG (About this sound listen)), is a finite directed graph with\",\n",
    "    \" no directed cycles. That is, it consists of finitely many vertices and\",\n",
    "    \"edges, with each edge directed from one vertex to another, \",\n",
    "    \"such that there is no way to start at any vertex v and follow\",\n",
    "    \"a consistently-directed sequence of edges that eventually \",\n",
    "    \"loops back to v again. Equivalently, a DAG is a directed graph\",\n",
    "    \"that has a topological ordering, a sequence of the vertices \",\n",
    "    \"such that every edge is directed from earlier to later in the sequence.\",\n",
    "    \"The corresponding concept for undirected graphs is a forest, an undirected graph without \",\n",
    "    \"cycles. Choosing an orientation for a forest produces a special kind of directed acyclic graph\",\n",
    "    \"called a polytree. However there are many other kinds of directed acyclic graph that are not\"]\n",
    "}\n",
    "results = splitExec.exec(input=input, max_displayed_results=3)"
   ]
  },
  {
   "cell_type": "code",
   "execution_count": null,
   "metadata": {},
   "outputs": [],
   "source": [
    "# execute without results display\n",
    "results = splitExec.exec(input=input, max_displayed_results=0)"
   ]
  },
  {
   "cell_type": "markdown",
   "metadata": {},
   "source": [
    "# Iterate over results"
   ]
  },
  {
   "cell_type": "code",
   "execution_count": null,
   "metadata": {},
   "outputs": [],
   "source": [
    "i = 0\n",
    "print(\"TOTAL: {} results\".format(len(results)))\n",
    "for item in results:\n",
    "    print('ITEM {}: {}'.format(i, results[i]))\n",
    "    i += 1"
   ]
  },
  {
   "cell_type": "markdown",
   "metadata": {},
   "source": [
    "# Get pipelines"
   ]
  },
  {
   "cell_type": "code",
   "execution_count": 11,
   "metadata": {},
   "outputs": [
    {
     "name": "stdout",
     "output_type": "stream",
     "text": [
      "Got 12 stored pipelines: ['trigger-4', 'trigger-3', 'trigger-1', 'batch_trigger', 'simple', 'big-batch', 'simple-wait-batch', 'batch-on-node', 'trigger-2', 'big-wait-batch', 'batch', 'zaza']\n",
      "Got 0 running jobs:\n"
     ]
    }
   ],
   "source": [
    "# Get all stored pipelines\n",
    "stored = PipelineExecutor.get_all_stored(api_server)\n",
    "# ...now you may iterate on 'stored'...\n",
    "\n",
    "# Get all running pipeline jobs\n",
    "running = PipelineExecutor.get_running_jobs(api_server)"
   ]
  },
  {
   "cell_type": "markdown",
   "metadata": {},
   "source": [
    "# Get Algorithms"
   ]
  },
  {
   "cell_type": "code",
   "execution_count": 10,
   "metadata": {},
   "outputs": [
    {
     "name": "stdout",
     "output_type": "stream",
     "text": [
      "Got 5 algorithms: ['black-alg', 'eval-alg', 'cpu-load', 'green-alg', 'yellow-alg']\n"
     ]
    }
   ],
   "source": [
    "alg_mgr = AlgorithmBuilder(api_server_base_url=api_server)\n",
    "algs = alg_mgr.get_all()"
   ]
  },
  {
   "cell_type": "markdown",
   "metadata": {},
   "source": [
    "# Create Algorithm"
   ]
  },
  {
   "cell_type": "code",
   "execution_count": null,
   "metadata": {},
   "outputs": [],
   "source": [
    "folder = '/home/amiryi/dev/hkube/hkube_notebook/hkube_notebook/test/test_algorithm'\n",
    "tarfilename = alg_mgr.create_algfile_by_folder(folder)\n",
    "config = alg_mgr.create_config('test-alg', 'main.py')\n",
    "alg_mgr.apply(compressed_alg_file=tarfilename, config=config)\n",
    "algs = alg_mgr.get_all()\n"
   ]
  }
 ],
 "metadata": {
  "kernelspec": {
   "display_name": "Python 3",
   "language": "python",
   "name": "python3"
  },
  "language_info": {
   "codemirror_mode": {
    "name": "ipython",
    "version": 3
   },
   "file_extension": ".py",
   "mimetype": "text/x-python",
   "name": "python",
   "nbconvert_exporter": "python",
   "pygments_lexer": "ipython3",
   "version": "3.6.8"
  }
 },
 "nbformat": 4,
 "nbformat_minor": 2
}
