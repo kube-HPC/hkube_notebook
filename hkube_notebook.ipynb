{
 "cells": [
  {
   "cell_type": "code",
   "execution_count": 1,
   "metadata": {},
   "outputs": [
    {
     "name": "stdout",
     "output_type": "stream",
     "text": [
      "0.3\n"
     ]
    }
   ],
   "source": [
    "import time\n",
    "import warnings\n",
    "warnings.filterwarnings('ignore')\n",
    "\n",
    "import hkube_notebook\n",
    "from hkube_notebook import AlgorithmBuilder, PipelineBuilder, PipelineExecutor, TrackerType\n",
    "print(hkube_notebook.__version__)\n",
    "\n",
    "connect_options={'base_url':'https://cd.hkube.io','path':'/hkube/api-server/api/v1'}"
   ]
  },
  {
   "cell_type": "markdown",
   "metadata": {},
   "source": [
    "# Build Pipeline"
   ]
  },
  {
   "cell_type": "code",
   "execution_count": 2,
   "metadata": {},
   "outputs": [
    {
     "data": {
      "text/plain": [
       "{'name': 'zaza',\n",
       " 'nodes': [{'nodeName': 'green',\n",
       "   'algorithmName': 'green-alg',\n",
       "   'input': ['@flowInput.tata']},\n",
       "  {'nodeName': 'yellow', 'algorithmName': 'yellow-alg', 'input': ['@green']},\n",
       "  {'nodeName': 'black', 'algorithmName': 'black-alg', 'input': ['@yellow']}],\n",
       " 'options': {'base_url': 'https://cd.hkube.io',\n",
       "  'path': '/hkube/api-server/api/v1'},\n",
       " 'flowInput': {}}"
      ]
     },
     "execution_count": 2,
     "metadata": {},
     "output_type": "execute_result"
    }
   ],
   "source": [
    "zazaBuilder = PipelineBuilder(name='zaza', options=connect_options)\n",
    "zazaBuilder.add_node(node_name='green', alg_name='green-alg', input=[\"@flowInput.tata\"])\n",
    "zazaBuilder.add_node(node_name='yellow', alg_name='yellow-alg', input=[\"@green\"])\n",
    "zazaBuilder.add_node(node_name='black', alg_name='black-alg', input=[\"@yellow\"])\n",
    "# add unknown algorithm => error\n",
    "#zazaBuilder.add_node(node_name='gold', alg_name='gold-alg', input=[\"@black\"])\n",
    "zazaBuilder.get_raw()"
   ]
  },
  {
   "cell_type": "markdown",
   "metadata": {},
   "source": [
    "# Execute raw pipeline from builder (webhook tracker)"
   ]
  },
  {
   "cell_type": "code",
   "execution_count": 3,
   "metadata": {},
   "outputs": [
    {
     "data": {
      "application/vnd.jupyter.widget-view+json": {
       "model_id": "f51d7324e4d94a108d597e4a69943db3",
       "version_major": 2,
       "version_minor": 0
      },
      "text/plain": [
       "  0%|          | 0/100 [00:00<?, ?it/s]"
      ]
     },
     "metadata": {},
     "output_type": "display_data"
    },
    {
     "name": "stdout",
     "output_type": "stream",
     "text": [
      "OK - pipeline is running, jobId: v14t0akt17y5\n",
      "PollingTracker thread finished, jobId: v14t0akt17y5\n",
      "getting results...\n",
      "pipeline \"zaza\" status: completed\n",
      "timeTook: 3.683 seconds\n",
      "RESULT (1 of 1 items):\n",
      "RESULT ITEM 1:\n",
      "42\n",
      "<<<<< finished\n"
     ]
    }
   ],
   "source": [
    "zazaRawExec = PipelineExecutor(raw=zazaBuilder.get_raw(), options=connect_options, tracker=TrackerType.POLLING)\n",
    "results = zazaRawExec.exec(input={ 'tata': {} })"
   ]
  },
  {
   "cell_type": "markdown",
   "metadata": {},
   "source": [
    "# Store pipeline, async execute 3 times (webhook listener)"
   ]
  },
  {
   "cell_type": "code",
   "execution_count": 4,
   "metadata": {},
   "outputs": [
    {
     "name": "stdout",
     "output_type": "stream",
     "text": [
      "OK: pipeline \"zaza\" was stored successfully!\n"
     ]
    },
    {
     "data": {
      "text/plain": [
       "True"
      ]
     },
     "execution_count": 4,
     "metadata": {},
     "output_type": "execute_result"
    }
   ],
   "source": [
    "zazaBuilder.store()"
   ]
  },
  {
   "cell_type": "code",
   "execution_count": 5,
   "metadata": {},
   "outputs": [
    {
     "data": {
      "application/vnd.jupyter.widget-view+json": {
       "model_id": "388eb0d7a80142d39196fc6f9fadd72e",
       "version_major": 2,
       "version_minor": 0
      },
      "text/plain": [
       "  0%|          | 0/100 [00:00<?, ?it/s]"
      ]
     },
     "metadata": {},
     "output_type": "display_data"
    },
    {
     "name": "stdout",
     "output_type": "stream",
     "text": [
      "OK - pipeline is running, jobId: tfjy0rvdg5ap\n"
     ]
    },
    {
     "data": {
      "application/vnd.jupyter.widget-view+json": {
       "model_id": "feedf62f31344442b6ade28454fdee4b",
       "version_major": 2,
       "version_minor": 0
      },
      "text/plain": [
       "  0%|          | 0/100 [00:00<?, ?it/s]"
      ]
     },
     "metadata": {},
     "output_type": "display_data"
    },
    {
     "name": "stdout",
     "output_type": "stream",
     "text": [
      "OK - pipeline is running, jobId: 8ycsii5ewuwo\n"
     ]
    },
    {
     "data": {
      "application/vnd.jupyter.widget-view+json": {
       "model_id": "7d7e8f2806f0496ea5e58fa61e758505",
       "version_major": 2,
       "version_minor": 0
      },
      "text/plain": [
       "  0%|          | 0/100 [00:00<?, ?it/s]"
      ]
     },
     "metadata": {},
     "output_type": "display_data"
    },
    {
     "name": "stdout",
     "output_type": "stream",
     "text": [
      "OK - pipeline is running, jobId: 1zn4avz5adzf\n"
     ]
    }
   ],
   "source": [
    "zazaStoredListenerExec = PipelineExecutor(name='zaza', options=connect_options, tracker=TrackerType.POLLING)\n",
    "jobId1 = zazaStoredListenerExec.exec_async(input={'tata': {}})\n",
    "jobId2 = zazaStoredListenerExec.exec_async(input={'tata': {}})\n",
    "jobId3 = zazaStoredListenerExec.exec_async(input={'tata': {}})"
   ]
  },
  {
   "cell_type": "code",
   "execution_count": 6,
   "metadata": {},
   "outputs": [
    {
     "name": "stdout",
     "output_type": "stream",
     "text": [
      "jobId tfjy0rvdg5ap: active - 0% completed, 1 storing, 1 creating, 1 preschedule\n",
      "jobId 8ycsii5ewuwo: active - 0% completed, 1 active, 1 preschedule, 1 creating\n",
      "jobId 1zn4avz5adzf: active - 0% completed, 1 active, 1 preschedule, 1 creating\n"
     ]
    }
   ],
   "source": [
    "# run it when above jobs are still running to see their status\n",
    "status_list = zazaStoredListenerExec.get_all_status()"
   ]
  },
  {
   "cell_type": "markdown",
   "metadata": {},
   "source": [
    "# Async excute stored pipeline 3 times (status polling), stop one"
   ]
  },
  {
   "cell_type": "code",
   "execution_count": 7,
   "metadata": {},
   "outputs": [
    {
     "data": {
      "application/vnd.jupyter.widget-view+json": {
       "model_id": "061add3bfdc747ffb7368601e604dd8b",
       "version_major": 2,
       "version_minor": 0
      },
      "text/plain": [
       "  0%|          | 0/100 [00:00<?, ?it/s]"
      ]
     },
     "metadata": {},
     "output_type": "display_data"
    },
    {
     "name": "stdout",
     "output_type": "stream",
     "text": [
      "OK - pipeline is running, jobId: td0k04z6nmw3\n"
     ]
    },
    {
     "data": {
      "application/vnd.jupyter.widget-view+json": {
       "model_id": "56e0b60346cc42cebf0f6c320e368e3e",
       "version_major": 2,
       "version_minor": 0
      },
      "text/plain": [
       "  0%|          | 0/100 [00:00<?, ?it/s]"
      ]
     },
     "metadata": {},
     "output_type": "display_data"
    },
    {
     "name": "stdout",
     "output_type": "stream",
     "text": [
      "OK - pipeline is running, jobId: q2whsmp5jqnv\n"
     ]
    },
    {
     "data": {
      "application/vnd.jupyter.widget-view+json": {
       "model_id": "ddfd1816ec1d4607b3f1b525ed4e28d7",
       "version_major": 2,
       "version_minor": 0
      },
      "text/plain": [
       "  0%|          | 0/100 [00:00<?, ?it/s]"
      ]
     },
     "metadata": {},
     "output_type": "display_data"
    },
    {
     "name": "stdout",
     "output_type": "stream",
     "text": [
      "OK - pipeline is running, jobId: h8mp7dcrqpt4\n",
      "PollingTracker thread finished, jobId: tfjy0rvdg5ap\n",
      "PollingTracker thread finished, jobId: 8ycsii5ewuwo\n",
      "PollingTracker thread finished, jobId: 1zn4avz5adzf\n",
      "ERROR: delete pipeline \"zaza\" failed: unable to stop pipeline zaza because its in completed status (code: 400)\n"
     ]
    },
    {
     "data": {
      "text/plain": [
       "False"
      ]
     },
     "execution_count": 7,
     "metadata": {},
     "output_type": "execute_result"
    }
   ],
   "source": [
    "zazaStoredPollingExec = PipelineExecutor(name='zaza', options=connect_options, tracker=TrackerType.POLLING)\n",
    "# async execution\n",
    "jobId1 = zazaStoredPollingExec.exec_async(input={'tata': {}})\n",
    "jobId2 = zazaStoredPollingExec.exec_async(input={'tata': {}})\n",
    "jobId3 = zazaStoredPollingExec.exec_async(input={'tata': {}})\n",
    "time.sleep(4)\n",
    "zazaStoredPollingExec.stop(jobId=jobId2)"
   ]
  },
  {
   "cell_type": "code",
   "execution_count": 8,
   "metadata": {},
   "outputs": [
    {
     "name": "stdout",
     "output_type": "stream",
     "text": [
      "getting results...\n",
      "PollingTracker thread finished, jobId: td0k04z6nmw3\n",
      "PollingTracker thread finished, jobId: q2whsmp5jqnv\n",
      "PollingTracker thread finished, jobId: h8mp7dcrqpt4\n",
      "pipeline \"zaza\" status: completed\n",
      "timeTook: 4.097 seconds\n",
      "RESULT (1 of 1 items):\n",
      "RESULT ITEM 1:\n",
      "42\n"
     ]
    }
   ],
   "source": [
    "# get result of the first\n",
    "results1 = zazaStoredPollingExec.get_results(jobId=jobId3, max_display=10)"
   ]
  },
  {
   "cell_type": "markdown",
   "metadata": {},
   "source": [
    "# Execute pipeline with (too small) timeout"
   ]
  },
  {
   "cell_type": "code",
   "execution_count": 9,
   "metadata": {},
   "outputs": [
    {
     "data": {
      "application/vnd.jupyter.widget-view+json": {
       "model_id": "5139b06bbbcb41b8bcda96d5e4758de5",
       "version_major": 2,
       "version_minor": 0
      },
      "text/plain": [
       "  0%|          | 0/100 [00:00<?, ?it/s]"
      ]
     },
     "metadata": {},
     "output_type": "display_data"
    },
    {
     "name": "stdout",
     "output_type": "stream",
     "text": [
      "OK - pipeline is running, jobId: lkhdjf30hvh7\n",
      "WARNING: not completed after timeout of 2 seconds - killing status server...\n",
      "getting results...\n",
      "WARNING: not completed after timeout of 2 seconds...\n",
      "PollingTracker thread finished, jobId: lkhdjf30hvh7\n",
      "ERROR: get results for jobId lkhdjf30hvh7 failed: unable to get results for pipeline zaza because its in active status (code: 400)\n",
      "<<<<< finished\n"
     ]
    }
   ],
   "source": [
    "results = zazaStoredPollingExec.exec(input={ 'tata': {} }, timeout_sec=2)"
   ]
  },
  {
   "cell_type": "markdown",
   "metadata": {},
   "source": [
    "# Delete stored pipeline"
   ]
  },
  {
   "cell_type": "code",
   "execution_count": 10,
   "metadata": {},
   "outputs": [
    {
     "name": "stdout",
     "output_type": "stream",
     "text": [
      "OK: pipeline \"zaza\" was deleted successfully!\n"
     ]
    },
    {
     "data": {
      "text/plain": [
       "True"
      ]
     },
     "execution_count": 10,
     "metadata": {},
     "output_type": "execute_result"
    }
   ],
   "source": [
    "zazaBuilder.delete()"
   ]
  },
  {
   "cell_type": "markdown",
   "metadata": {},
   "source": [
    "# Build & exec eval node pipeline, control dispaled size"
   ]
  },
  {
   "cell_type": "code",
   "execution_count": 11,
   "metadata": {},
   "outputs": [
    {
     "data": {
      "text/plain": [
       "{'name': 'multi_result',\n",
       " 'nodes': [{'nodeName': 'split',\n",
       "   'algorithmName': 'eval-alg',\n",
       "   'input': ['#@flowInput.text'],\n",
       "   'extraData': {'code': ['function split(input) {',\n",
       "     \"return input[0].split(' ');\",\n",
       "     '}']}}],\n",
       " 'options': {'base_url': 'https://cd.hkube.io',\n",
       "  'path': '/hkube/api-server/api/v1'},\n",
       " 'flowInput': {}}"
      ]
     },
     "execution_count": 11,
     "metadata": {},
     "output_type": "execute_result"
    }
   ],
   "source": [
    "splitBuilder = PipelineBuilder(name='multi_result', options=connect_options)\n",
    "eval_split = {\n",
    "    \"code\": [\n",
    "    \"function split(input) {\",\n",
    "    \"return input[0].split(' ');\",\n",
    "    \"}\"]\n",
    "}\n",
    "splitBuilder.add_node(node_name='split', alg_name='eval-alg', input=[\"#@flowInput.text\"],\n",
    "                extra_data=eval_split)\n",
    "splitBuilder.get_raw()"
   ]
  },
  {
   "cell_type": "code",
   "execution_count": 12,
   "metadata": {},
   "outputs": [
    {
     "data": {
      "application/vnd.jupyter.widget-view+json": {
       "model_id": "88c664be47944542b9aca31ce7e54003",
       "version_major": 2,
       "version_minor": 0
      },
      "text/plain": [
       "  0%|          | 0/100 [00:00<?, ?it/s]"
      ]
     },
     "metadata": {},
     "output_type": "display_data"
    },
    {
     "name": "stdout",
     "output_type": "stream",
     "text": [
      "OK - pipeline is running, jobId: 189hx7omb9o1\n",
      "PollingTracker thread finished, jobId: 189hx7omb9o1\n",
      "getting results...\n",
      "pipeline \"multi_result\" status: completed\n",
      "timeTook: 0.558 seconds\n",
      "RESULT (3 of 12 items):\n",
      "RESULT ITEM 1:\n",
      "[\n",
      "    \"In\",\n",
      "    \"mathematics\",\n",
      "    \"and\",\n",
      "    \"computer\",\n",
      "    \"science,\",\n",
      "    \"a\",\n",
      "    \"directed\",\n",
      "    \"acyclic\",\n",
      "    \"graph\",\n",
      "    \"\"\n",
      "]\n",
      "RESULT ITEM 2:\n",
      "[\n",
      "    \"(DAG\",\n",
      "    \"(About\",\n",
      "    \"this\",\n",
      "    \"sound\",\n",
      "    \"listen)),\",\n",
      "    \"is\",\n",
      "    \"a\",\n",
      "    \"finite\",\n",
      "    \"directed\",\n",
      "    \"graph\",\n",
      "    \"with\"\n",
      "]\n",
      "RESULT ITEM 3:\n",
      "[\n",
      "    \"\",\n",
      "    \"no\",\n",
      "    \"directed\",\n",
      "    \"cycles.\",\n",
      "    \"That\",\n",
      "    \"is,\",\n",
      "    \"it\",\n",
      "    \"consists\",\n",
      "    \"of\",\n",
      "    \"finitely\",\n",
      "    \"many\",\n",
      "    \"vertices\",\n",
      "    \"and\"\n",
      "]\n",
      "<<<<< finished\n"
     ]
    }
   ],
   "source": [
    "splitExec = PipelineExecutor(raw=splitBuilder.get_raw(), options=connect_options, tracker=TrackerType.POLLING)\n",
    "input = {\n",
    "        \"text\": [\"In mathematics and computer science, a directed acyclic graph \",\n",
    "    \"(DAG (About this sound listen)), is a finite directed graph with\",\n",
    "    \" no directed cycles. That is, it consists of finitely many vertices and\",\n",
    "    \"edges, with each edge directed from one vertex to another, \",\n",
    "    \"such that there is no way to start at any vertex v and follow\",\n",
    "    \"a consistently-directed sequence of edges that eventually \",\n",
    "    \"loops back to v again. Equivalently, a DAG is a directed graph\",\n",
    "    \"that has a topological ordering, a sequence of the vertices \",\n",
    "    \"such that every edge is directed from earlier to later in the sequence.\",\n",
    "    \"The corresponding concept for undirected graphs is a forest, an undirected graph without \",\n",
    "    \"cycles. Choosing an orientation for a forest produces a special kind of directed acyclic graph\",\n",
    "    \"called a polytree. However there are many other kinds of directed acyclic graph that are not\"]\n",
    "}\n",
    "results = splitExec.exec(input=input, max_displayed_results=3)"
   ]
  },
  {
   "cell_type": "code",
   "execution_count": 13,
   "metadata": {},
   "outputs": [
    {
     "data": {
      "application/vnd.jupyter.widget-view+json": {
       "model_id": "fe9a5898ac254507877a9b5bf05fc7e8",
       "version_major": 2,
       "version_minor": 0
      },
      "text/plain": [
       "  0%|          | 0/100 [00:00<?, ?it/s]"
      ]
     },
     "metadata": {},
     "output_type": "display_data"
    },
    {
     "name": "stdout",
     "output_type": "stream",
     "text": [
      "OK - pipeline is running, jobId: 63xvxx7id7hc\n",
      "PollingTracker thread finished, jobId: 63xvxx7id7hc\n",
      "getting results...\n",
      "pipeline \"multi_result\" status: completed\n",
      "timeTook: 0.508 seconds\n",
      "RESULTS ITEMS: 12\n",
      "<<<<< finished\n"
     ]
    }
   ],
   "source": [
    "# execute without results display\n",
    "results = splitExec.exec(input=input, max_displayed_results=0)"
   ]
  },
  {
   "cell_type": "markdown",
   "metadata": {},
   "source": [
    "# Iterate over results"
   ]
  },
  {
   "cell_type": "code",
   "execution_count": 14,
   "metadata": {},
   "outputs": [
    {
     "name": "stdout",
     "output_type": "stream",
     "text": [
      "TOTAL: 12 results\n",
      "ITEM 0: {'nodeName': 'split', 'batchIndex': 1, 'algorithmName': 'eval-alg', 'result': ['In', 'mathematics', 'and', 'computer', 'science,', 'a', 'directed', 'acyclic', 'graph', '']}\n",
      "ITEM 1: {'nodeName': 'split', 'batchIndex': 2, 'algorithmName': 'eval-alg', 'result': ['(DAG', '(About', 'this', 'sound', 'listen)),', 'is', 'a', 'finite', 'directed', 'graph', 'with']}\n",
      "ITEM 2: {'nodeName': 'split', 'batchIndex': 3, 'algorithmName': 'eval-alg', 'result': ['', 'no', 'directed', 'cycles.', 'That', 'is,', 'it', 'consists', 'of', 'finitely', 'many', 'vertices', 'and']}\n",
      "ITEM 3: {'nodeName': 'split', 'batchIndex': 4, 'algorithmName': 'eval-alg', 'result': ['edges,', 'with', 'each', 'edge', 'directed', 'from', 'one', 'vertex', 'to', 'another,', '']}\n",
      "ITEM 4: {'nodeName': 'split', 'batchIndex': 5, 'algorithmName': 'eval-alg', 'result': ['such', 'that', 'there', 'is', 'no', 'way', 'to', 'start', 'at', 'any', 'vertex', 'v', 'and', 'follow']}\n",
      "ITEM 5: {'nodeName': 'split', 'batchIndex': 6, 'algorithmName': 'eval-alg', 'result': ['a', 'consistently-directed', 'sequence', 'of', 'edges', 'that', 'eventually', '']}\n",
      "ITEM 6: {'nodeName': 'split', 'batchIndex': 7, 'algorithmName': 'eval-alg', 'result': ['loops', 'back', 'to', 'v', 'again.', 'Equivalently,', 'a', 'DAG', 'is', 'a', 'directed', 'graph']}\n",
      "ITEM 7: {'nodeName': 'split', 'batchIndex': 8, 'algorithmName': 'eval-alg', 'result': ['that', 'has', 'a', 'topological', 'ordering,', 'a', 'sequence', 'of', 'the', 'vertices', '']}\n",
      "ITEM 8: {'nodeName': 'split', 'batchIndex': 9, 'algorithmName': 'eval-alg', 'result': ['such', 'that', 'every', 'edge', 'is', 'directed', 'from', 'earlier', 'to', 'later', 'in', 'the', 'sequence.']}\n",
      "ITEM 9: {'nodeName': 'split', 'batchIndex': 10, 'algorithmName': 'eval-alg', 'result': ['The', 'corresponding', 'concept', 'for', 'undirected', 'graphs', 'is', 'a', 'forest,', 'an', 'undirected', 'graph', 'without', '']}\n",
      "ITEM 10: {'nodeName': 'split', 'batchIndex': 11, 'algorithmName': 'eval-alg', 'result': ['cycles.', 'Choosing', 'an', 'orientation', 'for', 'a', 'forest', 'produces', 'a', 'special', 'kind', 'of', 'directed', 'acyclic', 'graph']}\n",
      "ITEM 11: {'nodeName': 'split', 'batchIndex': 12, 'algorithmName': 'eval-alg', 'result': ['called', 'a', 'polytree.', 'However', 'there', 'are', 'many', 'other', 'kinds', 'of', 'directed', 'acyclic', 'graph', 'that', 'are', 'not']}\n"
     ]
    }
   ],
   "source": [
    "i = 0\n",
    "print(\"TOTAL: {} results\".format(len(results)))\n",
    "for item in results:\n",
    "    print('ITEM {}: {}'.format(i, results[i]))\n",
    "    i += 1"
   ]
  },
  {
   "cell_type": "markdown",
   "metadata": {},
   "source": [
    "# Get pipelines"
   ]
  },
  {
   "cell_type": "code",
   "execution_count": 15,
   "metadata": {},
   "outputs": [
    {
     "name": "stdout",
     "output_type": "stream",
     "text": [
      "Got 18 stored pipelines: ['batch_trigger', 'pausePipe', 'simple', 'batch', 'big-batch', 'big-wait-batch', 'wait-any-batch', 'batch-on-node', 'simple-wait-batch', 'trigger-1', 'trigger-2', 'trigger-3', 'trigger-4', 'streaming', 'video1', 'sleep', 'full-full-less', 'orit']\n",
      "Got 0 running jobs:\n"
     ]
    }
   ],
   "source": [
    "# Get all stored pipelines\n",
    "stored = PipelineExecutor.get_all_stored(options=connect_options)\n",
    "# ...now you may iterate on 'stored'...\n",
    "\n",
    "# Get all running pipeline jobs\n",
    "running = PipelineExecutor.get_running_jobs(options=connect_options)"
   ]
  },
  {
   "cell_type": "markdown",
   "metadata": {},
   "source": [
    "# Get Algorithms"
   ]
  },
  {
   "cell_type": "code",
   "execution_count": 16,
   "metadata": {},
   "outputs": [
    {
     "name": "stdout",
     "output_type": "stream",
     "text": [
      "Got 13 algorithms: ['eval-alg', 'green-alg', 'yellow-alg', 'black-alg', 'alg1-ttt', 'green-alg1', 'green-alg2', 'green-alg3', 'green-alg4', 'green-alg5', 'test2', 'sort-alg', 'test-alg']\n"
     ]
    }
   ],
   "source": [
    "alg_mgr = AlgorithmBuilder(options=connect_options)\n",
    "algs = alg_mgr.get_all()"
   ]
  },
  {
   "cell_type": "markdown",
   "metadata": {},
   "source": [
    "# Create Algorithm"
   ]
  },
  {
   "cell_type": "code",
   "execution_count": 17,
   "metadata": {},
   "outputs": [
    {
     "name": "stdout",
     "output_type": "stream",
     "text": [
      "ERROR: failed to create tar file /home/jovyan/work/alg.tar.gz: [Errno 2] No such file or directory: '/home/yuvalso/anaconda3/Amir/test_algorithm'\n"
     ]
    },
    {
     "ename": "TypeError",
     "evalue": "expected str, bytes or os.PathLike object, not NoneType",
     "output_type": "error",
     "traceback": [
      "\u001b[0;31m---------------------------------------------------------------------------\u001b[0m",
      "\u001b[0;31mTypeError\u001b[0m                                 Traceback (most recent call last)",
      "\u001b[0;32m/tmp/ipykernel_361/3223766467.py\u001b[0m in \u001b[0;36m<module>\u001b[0;34m\u001b[0m\n\u001b[1;32m      3\u001b[0m \u001b[0mworker_env\u001b[0m \u001b[0;34m=\u001b[0m \u001b[0;34m{\u001b[0m \u001b[0;34m\"WORKER_ALGORITHM_PROTOCOL\"\u001b[0m\u001b[0;34m:\u001b[0m \u001b[0;34m\"ws\"\u001b[0m \u001b[0;34m}\u001b[0m\u001b[0;34m\u001b[0m\u001b[0;34m\u001b[0m\u001b[0m\n\u001b[1;32m      4\u001b[0m \u001b[0mconfig\u001b[0m \u001b[0;34m=\u001b[0m \u001b[0malg_mgr\u001b[0m\u001b[0;34m.\u001b[0m\u001b[0mcreate_config\u001b[0m\u001b[0;34m(\u001b[0m\u001b[0;34m'test3-alg'\u001b[0m\u001b[0;34m,\u001b[0m \u001b[0;34m'main.py'\u001b[0m\u001b[0;34m,\u001b[0m \u001b[0mworker_env\u001b[0m\u001b[0;34m=\u001b[0m\u001b[0mworker_env\u001b[0m\u001b[0;34m)\u001b[0m\u001b[0;34m\u001b[0m\u001b[0;34m\u001b[0m\u001b[0m\n\u001b[0;32m----> 5\u001b[0;31m \u001b[0malg_mgr\u001b[0m\u001b[0;34m.\u001b[0m\u001b[0mapply\u001b[0m\u001b[0;34m(\u001b[0m\u001b[0mcompressed_alg_file\u001b[0m\u001b[0;34m=\u001b[0m\u001b[0mtarfilename\u001b[0m\u001b[0;34m,\u001b[0m \u001b[0mconfig\u001b[0m\u001b[0;34m=\u001b[0m\u001b[0mconfig\u001b[0m\u001b[0;34m)\u001b[0m\u001b[0;34m\u001b[0m\u001b[0;34m\u001b[0m\u001b[0m\n\u001b[0m\u001b[1;32m      6\u001b[0m \u001b[0malgs\u001b[0m \u001b[0;34m=\u001b[0m \u001b[0malg_mgr\u001b[0m\u001b[0;34m.\u001b[0m\u001b[0mget_all\u001b[0m\u001b[0;34m(\u001b[0m\u001b[0;34m)\u001b[0m\u001b[0;34m\u001b[0m\u001b[0;34m\u001b[0m\u001b[0m\n",
      "\u001b[0;32m~/work/hkube_notebook/algorithm/manager.py\u001b[0m in \u001b[0;36mapply\u001b[0;34m(self, compressed_alg_file, config)\u001b[0m\n\u001b[1;32m    139\u001b[0m         \"\"\"\n\u001b[1;32m    140\u001b[0m         \u001b[0mname\u001b[0m \u001b[0;34m=\u001b[0m \u001b[0mconfig\u001b[0m\u001b[0;34m[\u001b[0m\u001b[0;34m'name'\u001b[0m\u001b[0;34m]\u001b[0m\u001b[0;34m\u001b[0m\u001b[0;34m\u001b[0m\u001b[0m\n\u001b[0;32m--> 141\u001b[0;31m         \u001b[0mstate\u001b[0m \u001b[0;34m=\u001b[0m \u001b[0mself\u001b[0m\u001b[0;34m.\u001b[0m\u001b[0mapply_async\u001b[0m\u001b[0;34m(\u001b[0m\u001b[0mcompressed_alg_file\u001b[0m\u001b[0;34m,\u001b[0m \u001b[0mconfig\u001b[0m\u001b[0;34m)\u001b[0m\u001b[0;34m\u001b[0m\u001b[0;34m\u001b[0m\u001b[0m\n\u001b[0m\u001b[1;32m    142\u001b[0m         \u001b[0;32mif\u001b[0m \u001b[0mstate\u001b[0m \u001b[0;32mis\u001b[0m \u001b[0;32mNone\u001b[0m\u001b[0;34m:\u001b[0m\u001b[0;34m\u001b[0m\u001b[0;34m\u001b[0m\u001b[0m\n\u001b[1;32m    143\u001b[0m             \u001b[0;32mreturn\u001b[0m \u001b[0;32mNone\u001b[0m\u001b[0;34m\u001b[0m\u001b[0;34m\u001b[0m\u001b[0m\n",
      "\u001b[0;32m~/work/hkube_notebook/algorithm/manager.py\u001b[0m in \u001b[0;36mapply_async\u001b[0;34m(self, compressed_alg_file, config)\u001b[0m\n\u001b[1;32m    120\u001b[0m         \"\"\"\n\u001b[1;32m    121\u001b[0m         \u001b[0mname\u001b[0m \u001b[0;34m=\u001b[0m \u001b[0mconfig\u001b[0m\u001b[0;34m[\u001b[0m\u001b[0;34m'name'\u001b[0m\u001b[0;34m]\u001b[0m\u001b[0;34m\u001b[0m\u001b[0;34m\u001b[0m\u001b[0m\n\u001b[0;32m--> 122\u001b[0;31m         \u001b[0mfiles\u001b[0m \u001b[0;34m=\u001b[0m \u001b[0;34m{\u001b[0m\u001b[0;34m'file'\u001b[0m\u001b[0;34m:\u001b[0m \u001b[0mopen\u001b[0m\u001b[0;34m(\u001b[0m\u001b[0mcompressed_alg_file\u001b[0m\u001b[0;34m,\u001b[0m\u001b[0;34m'rb'\u001b[0m\u001b[0;34m)\u001b[0m\u001b[0;34m}\u001b[0m\u001b[0;34m\u001b[0m\u001b[0;34m\u001b[0m\u001b[0m\n\u001b[0m\u001b[1;32m    123\u001b[0m         \u001b[0mjson_config\u001b[0m \u001b[0;34m=\u001b[0m \u001b[0mjson\u001b[0m\u001b[0;34m.\u001b[0m\u001b[0mdumps\u001b[0m\u001b[0;34m(\u001b[0m\u001b[0mconfig\u001b[0m\u001b[0;34m)\u001b[0m\u001b[0;34m\u001b[0m\u001b[0;34m\u001b[0m\u001b[0m\n\u001b[1;32m    124\u001b[0m         \u001b[0mvalues\u001b[0m \u001b[0;34m=\u001b[0m \u001b[0;34m{\u001b[0m \u001b[0;34m'payload'\u001b[0m\u001b[0;34m:\u001b[0m \u001b[0mjson_config\u001b[0m \u001b[0;34m}\u001b[0m\u001b[0;34m\u001b[0m\u001b[0;34m\u001b[0m\u001b[0m\n",
      "\u001b[0;31mTypeError\u001b[0m: expected str, bytes or os.PathLike object, not NoneType"
     ]
    }
   ],
   "source": [
    "folder = '/home/yuvalso/anaconda3/Amir/test_algorithm'\n",
    "tarfilename = alg_mgr.create_algfile_by_folder(folder)\n",
    "worker_env = { \"WORKER_ALGORITHM_PROTOCOL\": \"ws\" }\n",
    "config = alg_mgr.create_config('test3-alg', 'main.py', worker_env=worker_env)\n",
    "alg_mgr.apply(compressed_alg_file=tarfilename, config=config)\n",
    "algs = alg_mgr.get_all()\n"
   ]
  },
  {
   "cell_type": "code",
   "execution_count": null,
   "metadata": {},
   "outputs": [],
   "source": [
    "testBuilder = PipelineBuilder(name='AMIRYI', api_server_base_url=api_server)\n",
    "testBuilder.add_node(node_name='sort', alg_name='test3-alg', input=[\"@flowInput.array\", \"@flowInput.dir\"])\n",
    "testBuilder.get_raw()"
   ]
  },
  {
   "cell_type": "code",
   "execution_count": null,
   "metadata": {},
   "outputs": [],
   "source": [
    "sortRawExec = PipelineExecutor(raw=testBuilder.get_raw(), api_server_base_url=api_server, tracker=TrackerType.POLLING)\n",
    "results = sortRawExec.exec(input={ \"array\": [5, 10, 7, -7, 21, 16, 19, 0], \"dir\": \"asc\"})"
   ]
  },
  {
   "cell_type": "code",
   "execution_count": null,
   "metadata": {},
   "outputs": [],
   "source": [
    "# delete alg\n",
    "alg_mgr.delete('test3-alg')"
   ]
  },
  {
   "cell_type": "code",
   "execution_count": null,
   "metadata": {},
   "outputs": [],
   "source": []
  }
 ],
 "metadata": {
  "kernelspec": {
   "display_name": "Python 3 (ipykernel)",
   "language": "python",
   "name": "python3"
  },
  "language_info": {
   "codemirror_mode": {
    "name": "ipython",
    "version": 3
   },
   "file_extension": ".py",
   "mimetype": "text/x-python",
   "name": "python",
   "nbconvert_exporter": "python",
   "pygments_lexer": "ipython3",
   "version": "3.9.5"
  }
 },
 "nbformat": 4,
 "nbformat_minor": 4
}
